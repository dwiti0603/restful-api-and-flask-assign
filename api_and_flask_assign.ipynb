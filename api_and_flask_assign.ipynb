{
  "nbformat": 4,
  "nbformat_minor": 0,
  "metadata": {
    "colab": {
      "provenance": []
    },
    "kernelspec": {
      "name": "python3",
      "display_name": "Python 3"
    },
    "language_info": {
      "name": "python"
    }
  },
  "cells": [
    {
      "cell_type": "markdown",
      "source": [
        "#**RESTful API and Flask Assignment**"
      ],
      "metadata": {
        "id": "xWKgOrDIJOFT"
      }
    },
    {
      "cell_type": "markdown",
      "source": [
        "Q1. What is API?\n",
        "\n",
        "Ans1. A RESTful API (Representational State Transfer API) is a way for two systems (like a client and server) to communicate over the internet using the rules of REST architecture.\n",
        "\n",
        "Q2. Explain the concept of API specification.\n",
        "\n",
        "Ans2. An API specification is like a blueprint or contract that clearly defines how an API works and how developers should use it.\n",
        "\n",
        "Q3. What is Flask, and why is it popular for building APIs?\n",
        "\n",
        "Ans3. Flask is a lightweight web framework in Python that’s especially popular for building APIs and web applications.\n",
        "\n",
        "1. minimial and flexible\n",
        "2. easy to learn\n",
        "3. built in development server\n",
        "4. support RESTful APIs\n",
        "5. large ecosystem\n",
        "\n",
        "Q4. What is routing in Flask?\n",
        "\n",
        "Ans4. In Flask, routing is the process of mapping a URL (endpoint) to a specific function in your application.\n",
        "\n",
        "Q5.  How do you create a simple Flask application?                                                                  \n",
        "Ans5. 1. install flask                                                        \n",
        "2. create app.py with the basic code                               \n",
        "3. run the app\n",
        "\n",
        "Q6. What are HTTP methods used in RESTful APIs?                                                                             \n",
        "Ans6. In RESTful APIs, HTTP methods define the type of operation you're performing on a resource.\n",
        "\n",
        "Q7. What is the purpose of the @app.route() decorator in Flask?                                                                \n",
        "Ans7. The @app.route() decorator in Flask is used to bind a function to a specific URL path. It tells Flask which URL should trigger which function.\n",
        "\n",
        "Q8. What is the difference between GET and POST HTTP methods?                                                           \n",
        "Ans8. Use GET when fetching or reading data (safe, no side effects).\n",
        "\n",
        "Use POST when sending data that changes something (e.g., create, update).\n",
        "\n",
        "Q9. How do you handle errors in Flask APIs?                    \n",
        "Ans9. Return clear, consistent JSON error messages.\n",
        "\n",
        "Always log server-side errors.\n",
        "\n",
        "Avoid exposing sensitive internal details to clients.\n",
        "\n",
        "Q10. How do you connect Flask to a SQL database?                                                                          \n",
        "Ans10. Flask can connect to SQL databases using several libraries, but the most common and flexible way is with SQLAlchemy, often through the Flask-SQLAlchemy extension.\n",
        "\n",
        "Q11. What is the role of Flask-SQLAlchemy?                 \n",
        "Ans11. Flask-SQLAlchemy is a Flask extension that simplifies the integration of SQL databases using SQLAlchemy, a powerful Object Relational Mapper (ORM) for Python.\n",
        "\n",
        "Q12. What are Flask blueprints, and how are they useful?                                                                      \n",
        "Ans12. Flask Blueprints are a way to organize your Flask application into modular components. They allow you to group routes, templates, static files, and other code related to specific functionality — making large applications more maintainable.\n",
        "\n",
        "Q13.  What is the purpose of Flask's request object?                                                                            \n",
        "Ans13. Flask's request object represents the incoming HTTP request from a client (browser, API client, etc.). It gives you access to all the data sent by the client when it calls your Flask route.\n",
        "\n",
        "Q14. How do you create a RESTful API endpoint using Flask?                                                                   \n",
        "Ans14. Use @app.route() with methods like GET, POST, etc.\n",
        "\n",
        "Use request.get_json() to get JSON input.\n",
        "\n",
        "Use jsonify() to return JSON responses with proper status codes.\n",
        "\n",
        "Q15. What is the purpose of Flask's jsonify() function?                                                                        \n",
        "Ans15. The jsonify() function in Flask is used to convert Python data structures into a JSON-formatted HTTP response that can be sent back to the client.\n",
        "\n",
        "Q16. Explain Flask’s url_for() function.                           \n",
        "Ans16. url_for() is a very useful Flask function that generates URLs for your routes dynamically based on the function name of the view. Instead of hardcoding URLs, you use url_for() to build URLs — this makes your app more maintainable and flexible.\n",
        "\n",
        "Q17. How does Flask handle static files (CSS, JavaScript, etc.)?                                                            \n",
        "Ans17. Place static files in the static folder by default.\n",
        "\n",
        "Use url_for('static', filename='...') in templates for URLs.\n",
        "\n",
        "Flask serves static files automatically under /static/.\n",
        "\n",
        "Q18. What is an API specification, and how does it help in building a Flask API?                                  \n",
        "Ans18. An API specification is a formal, structured document that defines how an API behaves and how clients should interact with it. It describes the API’s endpoints, request and response formats, parameters, authentication methods, error handling, and more.\n",
        "\n",
        "Q19. What are HTTP status codes, and why are they important in a Flask API?                                    \n",
        "Ans19. HTTP status codes are standardized 3-digit codes sent by a server in response to a client’s HTTP request. They indicate whether the request was successful, failed, or needs further action, and help clients understand what happened.\n",
        "\n",
        "Q20.  How do you handle POST requests in Flask?                                                                               \n",
        "Ans20. Handling POST requests in Flask is straightforward. You typically use it to receive data from a client (like form data or JSON) and process it (e.g., create a resource).\n",
        "\n",
        "Q21. How would you secure a Flask API?                        \n",
        "Ans21. Securing a Flask API involves multiple layers to protect data, control access, and prevent attacks.\n",
        "\n",
        "Q22. What is the significance of the Flask-RESTful extension?                                                        \n",
        "Ans22. Flask-RESTful is a popular Flask extension that simplifies building REST APIs by providing helpful abstractions and tools.\n",
        "\n",
        "Q23. What is the role of Flask’s session object?                                                                                \n",
        "Ans23. Flask’s session object is used to store data specific to a user’s session across multiple requests. It lets you keep track of information between requests, like user login status, preferences, or temporary data."
      ],
      "metadata": {
        "id": "cUXmO-ZRqE-B"
      }
    },
    {
      "cell_type": "code",
      "source": [
        "#Q1. How do you create a basic Flask application?\n",
        "#Ans1.\n",
        "\n",
        "from flask import Flask\n",
        "\n",
        "# Create a Flask app instance\n",
        "app = Flask(__name__)\n",
        "\n",
        "# Home route\n",
        "@app.route('/')\n",
        "def home():\n",
        "    return \"Welcome to the Home Page 🏠\"\n",
        "\n",
        "# About route\n",
        "@app.route('/about')\n",
        "def about():\n",
        "    return \"This is the About Page 📖\"\n",
        "\n",
        "# Contact route\n",
        "@app.route('/contact')\n",
        "def contact():\n",
        "    return \"Contact us at: contact@example.com 📧\"\n",
        "\n",
        "# Run the app\n",
        "if __name__ == '__main__':\n",
        "    app.run(debug=True)\n"
      ],
      "metadata": {
        "colab": {
          "base_uri": "https://localhost:8080/"
        },
        "id": "BGRtP0r1tIiX",
        "outputId": "df4b314f-d111-498b-9bc5-500aab269faa"
      },
      "execution_count": 2,
      "outputs": [
        {
          "output_type": "stream",
          "name": "stdout",
          "text": [
            " * Serving Flask app '__main__'\n",
            " * Debug mode: on\n"
          ]
        },
        {
          "output_type": "stream",
          "name": "stderr",
          "text": [
            "INFO:werkzeug:\u001b[31m\u001b[1mWARNING: This is a development server. Do not use it in a production deployment. Use a production WSGI server instead.\u001b[0m\n",
            " * Running on http://127.0.0.1:5000\n",
            "INFO:werkzeug:\u001b[33mPress CTRL+C to quit\u001b[0m\n",
            "INFO:werkzeug: * Restarting with watchdog (inotify)\n"
          ]
        }
      ]
    },
    {
      "cell_type": "code",
      "source": [
        "#Q2. How do you serve static files like images or CSS in Flask?\n",
        "#Ans2.\n",
        "server {\n",
        "    listen 80;\n",
        "    server_name yourdomain.com;\n",
        "\n",
        "    location /static/ {\n",
        "        root /path/to/your/application;\n",
        "    }\n",
        "\n",
        "    location / {\n",
        "        proxy_pass http://localhost:5000;\n",
        "        proxy_set_header Host $host;\n",
        "        proxy_set_header X-Real-IP $remote_addr;\n",
        "        proxy_set_header X-Forwarded-For $proxy_add_x_forwarded_for;\n",
        "    }\n",
        "}\n"
      ],
      "metadata": {
        "colab": {
          "base_uri": "https://localhost:8080/",
          "height": 106
        },
        "id": "idzh48KztJrl",
        "outputId": "bddfdbd9-d3d4-4ceb-fb9e-e63a1713eee2"
      },
      "execution_count": 20,
      "outputs": [
        {
          "output_type": "error",
          "ename": "SyntaxError",
          "evalue": "invalid syntax. Perhaps you forgot a comma? (ipython-input-1573001825.py, line 4)",
          "traceback": [
            "\u001b[0;36m  File \u001b[0;32m\"/tmp/ipython-input-1573001825.py\"\u001b[0;36m, line \u001b[0;32m4\u001b[0m\n\u001b[0;31m    listen 80;\u001b[0m\n\u001b[0m    ^\u001b[0m\n\u001b[0;31mSyntaxError\u001b[0m\u001b[0;31m:\u001b[0m invalid syntax. Perhaps you forgot a comma?\n"
          ]
        }
      ]
    },
    {
      "cell_type": "code",
      "source": [
        "#Q3. How do you define different routes with different HTTP methods in Flask?\n",
        "#Ans3.\n",
        "from flask import Flask, request\n",
        "\n",
        "app = Flask(__name__)\n",
        "\n",
        "# GET route\n",
        "@app.route('/', methods=['GET'])\n",
        "def home():\n",
        "    return \"This is a GET request!\"\n",
        "\n",
        "# POST route\n",
        "@app.route('/submit', methods=['POST'])\n",
        "def submit():\n",
        "    data = request.form.get(\"name\")\n",
        "    return f\"Received POST request with name: {data}\"\n",
        "\n",
        "# Route with both GET and POST\n",
        "@app.route('/login', methods=['GET', 'POST'])\n",
        "def login():\n",
        "    if request.method == 'POST':\n",
        "        username = request.form.get(\"username\")\n",
        "        return f\"Logged in as {username}\"\n",
        "    return \"Please log in with POST request.\"\n",
        "\n",
        "# PUT route\n",
        "@app.route('/update', methods=['PUT'])\n",
        "def update():\n",
        "    return \"This is a PUT request to update data!\"\n",
        "\n",
        "# DELETE route\n",
        "@app.route('/delete', methods=['DELETE'])\n",
        "def delete():\n",
        "    return \"This is a DELETE request!\"\n",
        "\n",
        "if __name__ == '__main__':\n",
        "    app.run(debug=True)\n"
      ],
      "metadata": {
        "colab": {
          "base_uri": "https://localhost:8080/"
        },
        "id": "IVzcY-IOtJos",
        "outputId": "a2efbdf4-1aaf-466a-bc61-2a213fce1f85"
      },
      "execution_count": 4,
      "outputs": [
        {
          "output_type": "stream",
          "name": "stdout",
          "text": [
            " * Serving Flask app '__main__'\n",
            " * Debug mode: on\n"
          ]
        },
        {
          "output_type": "stream",
          "name": "stderr",
          "text": [
            "INFO:werkzeug:\u001b[31m\u001b[1mWARNING: This is a development server. Do not use it in a production deployment. Use a production WSGI server instead.\u001b[0m\n",
            " * Running on http://127.0.0.1:5000\n",
            "INFO:werkzeug:\u001b[33mPress CTRL+C to quit\u001b[0m\n",
            "INFO:werkzeug: * Restarting with watchdog (inotify)\n"
          ]
        }
      ]
    },
    {
      "cell_type": "code",
      "source": [
        "#Q4. How do you render HTML templates in Flask?\n",
        "#Ans4.\n",
        "from flask import Flask, render_template\n",
        "\n",
        "app = Flask(__name__)\n",
        "\n",
        "@app.route('/')\n",
        "def home():\n",
        "    return render_template('index.html')  # loads index.html\n",
        "\n",
        "@app.route('/about')\n",
        "def about():\n",
        "    return render_template('about.html')  # loads about.html\n",
        "\n",
        "if __name__ == '__main__':\n",
        "    app.run(debug=True)\n"
      ],
      "metadata": {
        "colab": {
          "base_uri": "https://localhost:8080/"
        },
        "id": "6BTN3PS1tJmK",
        "outputId": "32752d05-9055-42c9-ae32-43a5a0abb3d3"
      },
      "execution_count": 6,
      "outputs": [
        {
          "output_type": "stream",
          "name": "stdout",
          "text": [
            " * Serving Flask app '__main__'\n",
            " * Debug mode: on\n"
          ]
        },
        {
          "output_type": "stream",
          "name": "stderr",
          "text": [
            "INFO:werkzeug:\u001b[31m\u001b[1mWARNING: This is a development server. Do not use it in a production deployment. Use a production WSGI server instead.\u001b[0m\n",
            " * Running on http://127.0.0.1:5000\n",
            "INFO:werkzeug:\u001b[33mPress CTRL+C to quit\u001b[0m\n",
            "INFO:werkzeug: * Restarting with watchdog (inotify)\n"
          ]
        }
      ]
    },
    {
      "cell_type": "code",
      "source": [
        "#Q5. How can you generate URLs for routes in Flask using url_for?\n",
        "#Ans5.\n",
        "from flask import Flask, url_for, render_template\n",
        "\n",
        "app = Flask(__name__)\n",
        "\n",
        "@app.route('/')\n",
        "def home():\n",
        "    return render_template(\"index.html\")\n",
        "\n",
        "@app.route('/about')\n",
        "def about():\n",
        "    return \"This is the About page\"\n",
        "\n",
        "@app.route('/user/<username>')\n",
        "def profile(username):\n",
        "    return f\"Welcome, {username}!\"\n",
        "\n",
        "if __name__ == '__main__':\n",
        "    app.run(debug=True)\n"
      ],
      "metadata": {
        "colab": {
          "base_uri": "https://localhost:8080/"
        },
        "id": "iqN7aVmOtJjf",
        "outputId": "5d718bf7-a8e0-41f2-f92e-db82f0ace93b"
      },
      "execution_count": 7,
      "outputs": [
        {
          "output_type": "stream",
          "name": "stdout",
          "text": [
            " * Serving Flask app '__main__'\n",
            " * Debug mode: on\n"
          ]
        },
        {
          "output_type": "stream",
          "name": "stderr",
          "text": [
            "INFO:werkzeug:\u001b[31m\u001b[1mWARNING: This is a development server. Do not use it in a production deployment. Use a production WSGI server instead.\u001b[0m\n",
            " * Running on http://127.0.0.1:5000\n",
            "INFO:werkzeug:\u001b[33mPress CTRL+C to quit\u001b[0m\n",
            "INFO:werkzeug: * Restarting with watchdog (inotify)\n"
          ]
        }
      ]
    },
    {
      "cell_type": "code",
      "source": [
        "#Q6. How do you handle forms in Flask?\n",
        "#Ans6.\n",
        "from flask import Flask, request, render_template\n",
        "\n",
        "app = Flask(__name__)\n",
        "\n",
        "@app.route('/')\n",
        "def home():\n",
        "    return render_template('form.html')\n",
        "\n",
        "# Route to handle form submission\n",
        "@app.route('/submit', methods=['POST'])\n",
        "def submit():\n",
        "    name = request.form['name']      # Access form data\n",
        "    email = request.form['email']\n",
        "    return f\"Hello {name}, your email is {email}!\"\n",
        "\n",
        "if __name__ == '__main__':\n",
        "    app.run(debug=True)\n"
      ],
      "metadata": {
        "colab": {
          "base_uri": "https://localhost:8080/"
        },
        "id": "lc_ZuRR4tJgY",
        "outputId": "ee118e52-d612-45e7-ed58-db8121d4dad5"
      },
      "execution_count": 8,
      "outputs": [
        {
          "output_type": "stream",
          "name": "stdout",
          "text": [
            " * Serving Flask app '__main__'\n",
            " * Debug mode: on\n"
          ]
        },
        {
          "output_type": "stream",
          "name": "stderr",
          "text": [
            "INFO:werkzeug:\u001b[31m\u001b[1mWARNING: This is a development server. Do not use it in a production deployment. Use a production WSGI server instead.\u001b[0m\n",
            " * Running on http://127.0.0.1:5000\n",
            "INFO:werkzeug:\u001b[33mPress CTRL+C to quit\u001b[0m\n",
            "INFO:werkzeug: * Restarting with watchdog (inotify)\n"
          ]
        }
      ]
    },
    {
      "cell_type": "code",
      "source": [
        "#Q7. How can you validate form data in Flask?\n",
        "#Ans7.\n",
        "from flask import Flask, request, render_template_string\n",
        "\n",
        "app = Flask(__name__)\n",
        "\n",
        "form_html = \"\"\"\n",
        "<form method=\"POST\" action=\"/submit\">\n",
        "  Name: <input type=\"text\" name=\"name\"><br>\n",
        "  Email: <input type=\"email\" name=\"email\"><br>\n",
        "  <button type=\"submit\">Submit</button>\n",
        "</form>\n",
        "\"\"\"\n",
        "\n",
        "@app.route('/')\n",
        "def home():\n",
        "    return render_template_string(form_html)\n",
        "\n",
        "@app.route('/submit', methods=['POST'])\n",
        "def submit():\n",
        "    name = request.form.get(\"name\")\n",
        "    email = request.form.get(\"email\")\n",
        "\n",
        "    # Simple validation\n",
        "    if not name or not email:\n",
        "        return \"❌ Both name and email are required!\"\n",
        "    if \"@\" not in email:\n",
        "        return \"❌ Invalid email address!\"\n",
        "\n",
        "    return f\"✅ Hello {name}, your email {email} is valid!\"\n",
        "\n",
        "if __name__ == '__main__':\n",
        "    app.run(debug=True)\n"
      ],
      "metadata": {
        "colab": {
          "base_uri": "https://localhost:8080/"
        },
        "id": "mGqsRTeotJdP",
        "outputId": "46d43555-e3d0-469b-eb21-b968dfb5ae08"
      },
      "execution_count": 9,
      "outputs": [
        {
          "output_type": "stream",
          "name": "stdout",
          "text": [
            " * Serving Flask app '__main__'\n",
            " * Debug mode: on\n"
          ]
        },
        {
          "output_type": "stream",
          "name": "stderr",
          "text": [
            "INFO:werkzeug:\u001b[31m\u001b[1mWARNING: This is a development server. Do not use it in a production deployment. Use a production WSGI server instead.\u001b[0m\n",
            " * Running on http://127.0.0.1:5000\n",
            "INFO:werkzeug:\u001b[33mPress CTRL+C to quit\u001b[0m\n",
            "INFO:werkzeug: * Restarting with watchdog (inotify)\n"
          ]
        }
      ]
    },
    {
      "cell_type": "code",
      "source": [
        "#Q8. How do you manage sessions in Flask?\n",
        "#Ans8.\n",
        "from flask import Flask, session, redirect, url_for, request\n",
        "\n",
        "app = Flask(__name__)\n",
        "app.secret_key = \"mysecretkey\"  # Required for session encryption\n",
        "\n",
        "@app.route('/')\n",
        "def home():\n",
        "    # Check if user is logged in\n",
        "    if \"username\" in session:\n",
        "        return f\"✅ Logged in as {session['username']}\"\n",
        "    return \"❌ You are not logged in. <a href='/login'>Login</a>\"\n",
        "\n",
        "@app.route('/login', methods=[\"GET\", \"POST\"])\n",
        "def login():\n",
        "    if request.method == \"POST\":\n",
        "        session[\"username\"] = request.form[\"username\"]  # Store in session\n",
        "        return redirect(url_for(\"home\"))\n",
        "    return '''\n",
        "        <form method=\"post\">\n",
        "            <input type=\"text\" name=\"username\" placeholder=\"Enter your name\">\n",
        "            <input type=\"submit\" value=\"Login\">\n",
        "        </form>\n",
        "    '''\n",
        "\n",
        "@app.route('/logout')\n",
        "def logout():\n",
        "    session.pop(\"username\", None)  # Remove user from session\n",
        "    return redirect(url_for(\"home\"))\n",
        "\n",
        "if __name__ == \"__main__\":\n",
        "    app.run(debug=True)\n"
      ],
      "metadata": {
        "colab": {
          "base_uri": "https://localhost:8080/"
        },
        "id": "b6tRZNw7tJaQ",
        "outputId": "14aa6ffc-7845-4582-883b-0707bb46330a"
      },
      "execution_count": 10,
      "outputs": [
        {
          "output_type": "stream",
          "name": "stdout",
          "text": [
            " * Serving Flask app '__main__'\n",
            " * Debug mode: on\n"
          ]
        },
        {
          "output_type": "stream",
          "name": "stderr",
          "text": [
            "INFO:werkzeug:\u001b[31m\u001b[1mWARNING: This is a development server. Do not use it in a production deployment. Use a production WSGI server instead.\u001b[0m\n",
            " * Running on http://127.0.0.1:5000\n",
            "INFO:werkzeug:\u001b[33mPress CTRL+C to quit\u001b[0m\n",
            "INFO:werkzeug: * Restarting with watchdog (inotify)\n"
          ]
        }
      ]
    },
    {
      "cell_type": "code",
      "source": [
        "#Q9. How do ypu redirect to a different route in Flask?\n",
        "#Ans9.\n",
        "from flask import Flask, redirect\n",
        "\n",
        "app = Flask(__name__)\n",
        "\n",
        "@app.route(\"/\")\n",
        "def home():\n",
        "    # redirect to /hello\n",
        "    return redirect(\"/hello\")\n",
        "\n",
        "@app.route(\"/hello\")\n",
        "def hello():\n",
        "    return \"Hello, world!\"\n"
      ],
      "metadata": {
        "id": "WX6fd-RJtJXd"
      },
      "execution_count": 11,
      "outputs": []
    },
    {
      "cell_type": "code",
      "source": [
        "#Q10. How do you handle errors in Flask (e.g., 404)?\n",
        "#Ans10.\n",
        "from flask import Flask, render_template, request, abort\n",
        "\n",
        "app = Flask(__name__)\n",
        "\n",
        "@app.route('/')\n",
        "def index():\n",
        "    return \"Welcome home!\"\n",
        "\n",
        "@app.route('/item/<int:item_id>')\n",
        "def get_item(item_id):\n",
        "    if item_id > 10:\n",
        "        # maybe you know items only up to 10\n",
        "        abort(404)\n",
        "    return f\"Item {item_id}\"\n",
        "\n",
        "@app.errorhandler(404)\n",
        "def page_not_found(error):\n",
        "    return render_template('404.html'), 404\n",
        "\n",
        "@app.errorhandler(500)\n",
        "def internal_error(error):\n",
        "    # maybe log error\n",
        "    app.logger.error(f\"Server Error: {error}\")\n",
        "    return render_template('500.html'), 500\n",
        "\n",
        "class BadUsage(Exception):\n",
        "    pass\n",
        "\n",
        "@app.errorhandler(BadUsage)\n",
        "def handle_bad_usage(err):\n",
        "    return render_template('bad_usage.html', message=str(err)), 400\n",
        "\n",
        "# somewhere in views\n",
        "@app.route('/use_error')\n",
        "def use_error():\n",
        "    raise BadUsage(\"That was not allowed!\")\n",
        "\n",
        "if __name__ == '__main__':\n",
        "    app.run(debug=False)"
      ],
      "metadata": {
        "colab": {
          "base_uri": "https://localhost:8080/"
        },
        "id": "mYMJ14GZtJRt",
        "outputId": "8f440c35-93b6-430c-f237-e7a777ad81ca"
      },
      "execution_count": 13,
      "outputs": [
        {
          "output_type": "stream",
          "name": "stdout",
          "text": [
            " * Serving Flask app '__main__'\n",
            " * Debug mode: off\n"
          ]
        },
        {
          "output_type": "stream",
          "name": "stderr",
          "text": [
            "INFO:werkzeug:\u001b[31m\u001b[1mWARNING: This is a development server. Do not use it in a production deployment. Use a production WSGI server instead.\u001b[0m\n",
            " * Running on http://127.0.0.1:5000\n",
            "INFO:werkzeug:\u001b[33mPress CTRL+C to quit\u001b[0m\n"
          ]
        }
      ]
    },
    {
      "cell_type": "code",
      "source": [
        "#Q11. How do you structure a Flask app using Blueprints?\n",
        "#Ans11.\n",
        "from flask import render_template\n",
        "from . import bp\n",
        "\n",
        "@bp.app_errorhandler(404)\n",
        "def not_found_error(error):\n",
        "    return render_template('errors/404.html'), 404\n",
        "\n",
        "@bp.app_errorhandler(500)\n",
        "def internal_error(error):\n",
        "    # optionally rollback database session if used\n",
        "    return render_template('errors/500.html'), 500\n"
      ],
      "metadata": {
        "colab": {
          "base_uri": "https://localhost:8080/",
          "height": 383
        },
        "id": "W645i8-ItJPP",
        "outputId": "9eb351de-bb34-4468-b5e3-ba2a3d17b4e5"
      },
      "execution_count": 14,
      "outputs": [
        {
          "output_type": "error",
          "ename": "ImportError",
          "evalue": "attempted relative import with no known parent package",
          "traceback": [
            "\u001b[0;31m---------------------------------------------------------------------------\u001b[0m",
            "\u001b[0;31mImportError\u001b[0m                               Traceback (most recent call last)",
            "\u001b[0;32m/tmp/ipython-input-2863989366.py\u001b[0m in \u001b[0;36m<cell line: 0>\u001b[0;34m()\u001b[0m\n\u001b[1;32m      2\u001b[0m \u001b[0;31m#Ans11.\u001b[0m\u001b[0;34m\u001b[0m\u001b[0;34m\u001b[0m\u001b[0m\n\u001b[1;32m      3\u001b[0m \u001b[0;32mfrom\u001b[0m \u001b[0mflask\u001b[0m \u001b[0;32mimport\u001b[0m \u001b[0mrender_template\u001b[0m\u001b[0;34m\u001b[0m\u001b[0;34m\u001b[0m\u001b[0m\n\u001b[0;32m----> 4\u001b[0;31m \u001b[0;32mfrom\u001b[0m \u001b[0;34m.\u001b[0m \u001b[0;32mimport\u001b[0m \u001b[0mbp\u001b[0m\u001b[0;34m\u001b[0m\u001b[0;34m\u001b[0m\u001b[0m\n\u001b[0m\u001b[1;32m      5\u001b[0m \u001b[0;34m\u001b[0m\u001b[0m\n\u001b[1;32m      6\u001b[0m \u001b[0;34m@\u001b[0m\u001b[0mbp\u001b[0m\u001b[0;34m.\u001b[0m\u001b[0mapp_errorhandler\u001b[0m\u001b[0;34m(\u001b[0m\u001b[0;36m404\u001b[0m\u001b[0;34m)\u001b[0m\u001b[0;34m\u001b[0m\u001b[0;34m\u001b[0m\u001b[0m\n",
            "\u001b[0;31mImportError\u001b[0m: attempted relative import with no known parent package",
            "",
            "\u001b[0;31m---------------------------------------------------------------------------\u001b[0;32m\nNOTE: If your import is failing due to a missing package, you can\nmanually install dependencies using either !pip or !apt.\n\nTo view examples of installing some common dependencies, click the\n\"Open Examples\" button below.\n\u001b[0;31m---------------------------------------------------------------------------\u001b[0m\n"
          ],
          "errorDetails": {
            "actions": [
              {
                "action": "open_url",
                "actionText": "Open Examples",
                "url": "/notebooks/snippets/importing_libraries.ipynb"
              }
            ]
          }
        }
      ]
    },
    {
      "cell_type": "code",
      "source": [
        "#Q12. How do you define a custom Jinja filter in Flask?\n",
        "#Ans12.\n",
        "from flask import Flask\n",
        "\n",
        "app = Flask(__name__)\n",
        "\n",
        "def reverse_filter(s):\n",
        "    \"\"\"Reverses the input string.\"\"\"\n",
        "    return s[::-1]\n",
        "\n",
        "app.jinja_env.filters['reverse'] = reverse_filter\n"
      ],
      "metadata": {
        "id": "vW8EVrzMtJLn"
      },
      "execution_count": 16,
      "outputs": []
    },
    {
      "cell_type": "code",
      "source": [
        "#Q13. How can you redirect with query parameters in Flask?\n",
        "#Ans13.\n",
        "from flask import Flask, redirect, url_for\n",
        "\n",
        "app = Flask(__name__)\n",
        "\n",
        "@app.route('/')\n",
        "def index():\n",
        "    return redirect(url_for('hello', name='Alice', age=30))\n",
        "\n",
        "@app.route('/hello')\n",
        "def hello():\n",
        "    name = request.args.get('name')\n",
        "    age = request.args.get('age')\n",
        "    return f'Hello {name}, you are {age} years old!'\n"
      ],
      "metadata": {
        "id": "kHz6kyE6tJGL"
      },
      "execution_count": 17,
      "outputs": []
    },
    {
      "cell_type": "code",
      "source": [
        "#Q14. How do you return JSON responses in Flask?\n",
        "#Ans14.\n",
        "from flask import Flask, jsonify\n",
        "\n",
        "app = Flask(__name__)\n",
        "\n",
        "@app.route('/product')\n",
        "def product():\n",
        "    return jsonify({\n",
        "        \"id\": 101,\n",
        "        \"name\": \"Laptop\",\n",
        "        \"price\": 999.99\n",
        "    })\n"
      ],
      "metadata": {
        "id": "nYqXJEX8tJDc"
      },
      "execution_count": 18,
      "outputs": []
    },
    {
      "cell_type": "code",
      "source": [
        "#Q15. How do you capture URL parameters in Flask?\n",
        "#Ans15.\n",
        "from flask import Flask, request\n",
        "\n",
        "app = Flask(__name__)\n",
        "\n",
        "@app.route('/search/<category>')\n",
        "def search_category(category):\n",
        "    term = request.args.get('term')\n",
        "    return f'Searching for {term} in {category} category'\n"
      ],
      "metadata": {
        "id": "LP0N9FayFjoE"
      },
      "execution_count": 19,
      "outputs": []
    }
  ]
}